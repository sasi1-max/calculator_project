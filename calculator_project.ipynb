{
 "cells": [
  {
   "cell_type": "code",
   "execution_count": 21,
   "id": "83730e9d-33f3-45bb-a1a4-36b0141674c5",
   "metadata": {},
   "outputs": [
    {
     "name": "stdout",
     "output_type": "stream",
     "text": [
      "select operation:\n",
      "1. add\n",
      "2. sub\n",
      "3. mul\n",
      "4. div\n"
     ]
    },
    {
     "name": "stdin",
     "output_type": "stream",
     "text": [
      "Enter choice (1/2/3/4): 2\n",
      "Enter your first number: 3\n",
      "Enter your second number: 4\n"
     ]
    },
    {
     "name": "stdout",
     "output_type": "stream",
     "text": [
      "3.0 - 4.0 = -1.0\n",
      "Invalid input\n"
     ]
    }
   ],
   "source": [
    "def add(x, y):\n",
    "    return x + y\n",
    "\n",
    "def sub(x, y):\n",
    "    return x - y\n",
    "\n",
    "def mul(x, y):\n",
    "    return x * y\n",
    "\n",
    "def div(x, y):\n",
    "    return x / y\n",
    "\n",
    "print(\"select operation:\")\n",
    "print(\"1. add\")\n",
    "print(\"2. sub\")\n",
    "print(\"3. mul\")\n",
    "print(\"4. div\")\n",
    "\n",
    "choice = input(\"Enter choice (1/2/3/4):\")\n",
    "\n",
    "num1 = float(input(\"Enter your first number:\"))\n",
    "num2 = float(input(\"Enter your second number:\"))\n",
    "\n",
    "\n",
    "if choice == '1':\n",
    "    print(num1, \"+\", num2, \"=\" , add(num1, num2))\n",
    "\n",
    "elif choice == '2':\n",
    "    print(num1, \"-\", num2, \"=\" , sub(num1, num2))\n",
    "\n",
    "elif choice == '3':\n",
    "    print(num1, \"*\", num2, \"=\" , mul(num1, num2))\n",
    "\n",
    "if choice == '4':\n",
    "    print(num1, \"/\", num2, \"=\" , div(num1, num2))\n",
    "else:\n",
    "    print(\"Invalid input\")\n",
    "\n",
    "\n",
    "    "
   ]
  },
  {
   "cell_type": "code",
   "execution_count": null,
   "id": "d0134021-709f-41b1-a684-2d3935db02ae",
   "metadata": {},
   "outputs": [],
   "source": []
  }
 ],
 "metadata": {
  "kernelspec": {
   "display_name": "Python [conda env:base] *",
   "language": "python",
   "name": "conda-base-py"
  },
  "language_info": {
   "codemirror_mode": {
    "name": "ipython",
    "version": 3
   },
   "file_extension": ".py",
   "mimetype": "text/x-python",
   "name": "python",
   "nbconvert_exporter": "python",
   "pygments_lexer": "ipython3",
   "version": "3.12.7"
  }
 },
 "nbformat": 4,
 "nbformat_minor": 5
}
